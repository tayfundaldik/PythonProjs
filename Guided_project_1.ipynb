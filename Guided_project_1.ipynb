{
  "cells": [
    {
      "cell_type": "markdown",
      "metadata": {
        "id": "view-in-github",
        "colab_type": "text"
      },
      "source": [
        "<a href=\"https://colab.research.google.com/github/tayfundaldik/PythonProjs/blob/main/Guided_project_1.ipynb\" target=\"_parent\"><img src=\"https://colab.research.google.com/assets/colab-badge.svg\" alt=\"Open In Colab\"/></a>"
      ]
    },
    {
      "cell_type": "markdown",
      "source": [
        "# Chapter 1\n",
        "### Your first day at your new job 👩‍💻👨‍💻\n",
        "\n",
        "You are starting a new job as a junior software developer in an IT company.\n",
        "\n",
        "The company’s HR department asks you to fill out a form, so you start by assigning your personal information to corresponding variables.\n",
        "\n",
        "📌 Create a variable for your name, surname, age, ID number, place of residence, to specify if you have active health insurance or not, and lastly one for specifying your nationality.\n"
      ],
      "metadata": {
        "id": "VMuUK0ap_bRD"
      }
    },
    {
      "cell_type": "code",
      "execution_count": null,
      "metadata": {
        "id": "OPLhhc2Sp-D0"
      },
      "outputs": [],
      "source": [
        "#Please assign your personal information to variables\n",
        "name = \"Tayfun\"\n",
        "surname = \"Daldık\"\n",
        "age = 23\n",
        "ID_number = 40492520624\n",
        "place_of_residence = \"Esenyurt,Istanbul\"\n",
        "health_insurance = True\n",
        "nationality = \"Turkish\""
      ]
    },
    {
      "cell_type": "markdown",
      "metadata": {
        "id": "3zaUlxwcp-D0"
      },
      "source": [
        "###Meet And Greet\n",
        "Introduce yourself to your new co-workers.\n",
        "\n",
        "📌 Use a f-string to print \"My name is Joey Tribbiani I am 25 years old and I live in London”."
      ]
    },
    {
      "cell_type": "code",
      "source": [
        "#Write a sentence using the print function to describe yourself using the variables above in the correct data type\n",
        "print(f\"My name is {name} {surname}. I am {age} years old and i live in {place_of_residence}.\")"
      ],
      "metadata": {
        "id": "XNuh5_2WXwvg",
        "colab": {
          "base_uri": "https://localhost:8080/"
        },
        "outputId": "b5f46ea2-8ad8-429a-f8b1-e91dace4de7e"
      },
      "execution_count": null,
      "outputs": [
        {
          "output_type": "stream",
          "name": "stdout",
          "text": [
            "My name is Tayfun Daldık. I am 23 years old and i live in Esenyurt,Istanbul.\n"
          ]
        }
      ]
    },
    {
      "cell_type": "markdown",
      "metadata": {
        "id": "EEL9To4ip-D1"
      },
      "source": [
        "### Equipment starter pack\n",
        "The HR department asks you to list the items you would need to improve your work efficiency\n",
        "\n",
        "Mandatory:\n",
        "* Laptop\n",
        "* Headset\n",
        "* Second monitor\n",
        "\n",
        "Optional:\n",
        "* Mousepad\n",
        "* USB drive\n",
        "* External drive\n",
        "\n",
        "\n",
        "📌 Create a shopping list that contains items above and print it."
      ]
    },
    {
      "cell_type": "code",
      "execution_count": null,
      "metadata": {
        "id": "fPFBLDyqp-D2"
      },
      "outputs": [],
      "source": [
        "#Create the item_list\n",
        "shopping_list= [\"Laptop\",\"Headset\",\"Second Monitor\",\"Mousepad\",\"USB Drive\", \"External Drive\"]"
      ]
    },
    {
      "cell_type": "code",
      "source": [
        "#Print the list\n",
        "print(shopping_list)"
      ],
      "metadata": {
        "id": "358R_CN5U2-J",
        "colab": {
          "base_uri": "https://localhost:8080/"
        },
        "outputId": "a6757f59-131e-4b06-9785-1732f863a6f8"
      },
      "execution_count": null,
      "outputs": [
        {
          "output_type": "stream",
          "name": "stdout",
          "text": [
            "['Laptop', 'Headset', 'Second Monitor', 'Mousepad', 'USB Drive', 'External Drive']\n"
          ]
        }
      ]
    },
    {
      "cell_type": "markdown",
      "metadata": {
        "id": "5keEWjCyp-D2"
      },
      "source": [
        "####What is mandatory and what is optional?\n",
        "\n",
        "📌 Use list slicing to devide your list in two list: 'mandatory_item_list' and 'optional_item_list' and print both to the screen."
      ]
    },
    {
      "cell_type": "code",
      "execution_count": null,
      "metadata": {
        "id": "E6ewuDYZp-D2"
      },
      "outputs": [],
      "source": [
        "#Use list slicing to divide the mandatory items\n",
        "mandatory_item_list = shopping_list[0:3]"
      ]
    },
    {
      "cell_type": "code",
      "source": [
        "#Use list slicing to divide the optional items\n",
        "optional_item_list = shopping_list[3:6]"
      ],
      "metadata": {
        "id": "hOmkym01RGEL"
      },
      "execution_count": null,
      "outputs": []
    },
    {
      "cell_type": "code",
      "source": [
        "#Print both to the screen\n",
        "print(mandatory_item_list)\n",
        "print(optional_item_list)"
      ],
      "metadata": {
        "id": "xsVv1_msVE1_",
        "colab": {
          "base_uri": "https://localhost:8080/"
        },
        "outputId": "a5a23f94-68e7-4b47-9c78-280dfc71594e"
      },
      "execution_count": null,
      "outputs": [
        {
          "output_type": "stream",
          "name": "stdout",
          "text": [
            "['Laptop', 'Headset', 'Second Monitor']\n",
            "['Mousepad', 'USB Drive', 'External Drive']\n"
          ]
        }
      ]
    },
    {
      "cell_type": "markdown",
      "metadata": {
        "id": "s_M1Q93wp-D3"
      },
      "source": [
        "#### Go Shopping\n",
        "Next, you will have to go and purchase these items, the finance department confirmed a budget of $5000.\n",
        "\n",
        "📌 Assign 5000 to a variable called limit, so you know how much you can spend."
      ]
    },
    {
      "cell_type": "code",
      "execution_count": null,
      "metadata": {
        "id": "nCmpm0oqp-D3"
      },
      "outputs": [],
      "source": [
        "#Assign the spending limit value to a variable called limit\n",
        "limit = 5000"
      ]
    },
    {
      "cell_type": "markdown",
      "metadata": {
        "id": "VwbEEymVp-D3"
      },
      "source": [
        "####Price dictionary\n",
        "\n",
        "Before you start shopping yo need to find the best items that you can buy within the company budget.\n",
        "\n",
        "📌 Prepare a dictionary called “price_sheet” that includes the items as keys and the prices as values.  \n"
      ]
    },
    {
      "cell_type": "code",
      "execution_count": null,
      "metadata": {
        "id": "9o9n9Ag-p-D3"
      },
      "outputs": [],
      "source": [
        "#Create a dictionary that contains each item and its price\n",
        "price_sheet = {\"Laptop\" : 1700 , \"Headset\" : 170, \"Second Monitor\" :1000, \"Mousepad\": 45, \"USB Drive\" : 25, \"External Drive\" : 300}\n"
      ]
    },
    {
      "cell_type": "markdown",
      "metadata": {
        "id": "rUYivBVEBhCv"
      },
      "source": [
        "####Shopping functions\n",
        "\n",
        "You need to define three functions that will help you during shopping.\n",
        "\n",
        "📌 First, create an empty list that  will be your shopping cart. Here you will add the items you need to purchase.\n",
        "\n",
        "1. Define a function for both adding items to the cart and removing them from the item_list.\n",
        "\n",
        "📌 The \"add_to_cart\" function should take the item name and the quantity to buy as an argument.\n",
        "\n",
        "2. Define a function that will create an invoice.\n",
        "\n",
        "📌 The \"create_invoice\" function should calculate the taxes of each item (18%) and add it to the total amount.\n",
        "\n",
        "3. Define a function for the checkout.\n",
        "\n",
        "📌 The \"checkout\" function should subtract the total amount from the budget and print a statement to inform if the payment was successful."
      ]
    },
    {
      "cell_type": "code",
      "source": [
        "#Initialize the cart list\n",
        "shopping_cart = []"
      ],
      "metadata": {
        "id": "dBNZ2ZdkGHUe"
      },
      "execution_count": null,
      "outputs": []
    },
    {
      "cell_type": "code",
      "source": [
        "#Define the \"add_to_cart\" function\n",
        "def add_to_cart(name,quantity):\n",
        "    shopping_cart.append((name,quantity))\n",
        "    shopping_list.remove(name)"
      ],
      "metadata": {
        "id": "HH26hHHFGKPJ"
      },
      "execution_count": null,
      "outputs": []
    },
    {
      "cell_type": "code",
      "source": [
        "#Define the \"create_invoice\" function\n",
        "def create_invoice():\n",
        "  amount=0\n",
        "  for name,quantity in shopping_cart:\n",
        "    price = price_sheet[name]\n",
        "    tax = price * 0.18\n",
        "    amount1 =(tax+price)*quantity\n",
        "    amount += amount1\n",
        "    return amount"
      ],
      "metadata": {
        "id": "TUmNr4xVGQdm"
      },
      "execution_count": null,
      "outputs": []
    },
    {
      "cell_type": "code",
      "source": [
        "#Define the \"checkout\" function\n",
        "def checkout():\n",
        "  global limit\n",
        "  amount= create_invoice()\n",
        "  check=limit-amount\n",
        "  if check<0:\n",
        "    print(\"You have not enough money!!\")\n",
        "  else:\n",
        "    print(f\"Thank you for shopping. Here is your change {check}$.\")\n",
        "    return check"
      ],
      "metadata": {
        "id": "iUlKiXgMGdIk"
      },
      "execution_count": null,
      "outputs": []
    },
    {
      "cell_type": "markdown",
      "source": [
        "Let's shop!"
      ],
      "metadata": {
        "id": "2IFUlu0yB0In"
      }
    },
    {
      "cell_type": "code",
      "source": [
        "#Call the \"add_to_cart\" function for each item\n",
        "\n",
        "#Add first item to cart\n",
        "add_to_cart(\"Laptop\",1)\n",
        "#Add second item to cart\n",
        "\n",
        "add_to_cart(\"Headset\",1)\n",
        "#Add third item to cart\n",
        "\n",
        "add_to_cart(\"Second Monitor\",1)\n",
        "#Add fourth item to cart\n",
        "\n",
        "add_to_cart(\"Mousepad\",1)\n",
        "#Add fifth item to cart\n",
        "\n",
        "add_to_cart(\"USB Drive\",1)\n",
        "#Add last item to cart\n",
        "\n",
        "add_to_cart(\"External Drive\",1)\n",
        "#Call the create \"checkout\" function to pay for all your items\n",
        "\n",
        "checkout()"
      ],
      "metadata": {
        "id": "FDO7CRJTWPg7",
        "colab": {
          "base_uri": "https://localhost:8080/"
        },
        "outputId": "79b6602e-43f8-4c7d-bd12-89b3aa58f831"
      },
      "execution_count": null,
      "outputs": [
        {
          "output_type": "stream",
          "name": "stdout",
          "text": [
            "You have not enough money!!\n"
          ]
        }
      ]
    },
    {
      "cell_type": "markdown",
      "source": [
        "###Game Night\n",
        "\n",
        "You are back at the office and the HR department organizes a welcome party for new employees.\n",
        "\n",
        "You decide to create a Rock-Paper-Scissor game.\n",
        "\n",
        "📌 Create a Rock-Paper-Scissor game in which the user plays against the computer. The player will choose one of the actions, and the computer will choose its action randomly.\n"
      ],
      "metadata": {
        "id": "ZL-r2x_xKixg"
      }
    },
    {
      "cell_type": "code",
      "source": [
        "#Import the random library\n",
        "import random"
      ],
      "metadata": {
        "id": "qzD5pxBTgcFb"
      },
      "execution_count": null,
      "outputs": []
    },
    {
      "cell_type": "code",
      "source": [
        "#create a list containing the three actions of the game.\n",
        "game = [\"Rock\", \"Paper\", \"Scissors\"]"
      ],
      "metadata": {
        "id": "oJv-ihLAgcRo"
      },
      "execution_count": null,
      "outputs": []
    },
    {
      "cell_type": "code",
      "source": [
        "#Set the scores of players to 0\n",
        "p1=0\n",
        "p2=0\n",
        "#Ask the user how many rounds they want to play\n",
        "while True:\n",
        "  rounds = int(input(\"How many rounds you want to play? \"))\n",
        "  if rounds <= 0:\n",
        "    print(\"You typed a wrong number\")\n",
        "  else:\n",
        "    break\n",
        "#Add a round_counter that is 0 at the beginning\n",
        "round_counter=0\n",
        "\n",
        "#Write a while loop and put the game inside\n",
        "while True:\n",
        "  #Increase round_counter by and print it\n",
        "  round_counter += 1\n",
        "  print(\"Round\",round_counter)\n",
        "  #Select a random action for computer\n",
        "  rand= random.randint(0,2)\n",
        "  #Ask player to choose an action\n",
        "  try:\n",
        "    action= int(input(f\"Which one do you choose?\\n(for Rock type 1, for Paper type 2, for Scissors type 3.)\\n\"))\n",
        "  except ValueError:\n",
        "    print(\"!!!!!You need to type an integer!!!!!\")\n",
        "  #Print the players choices\n",
        "  print(\"You chose\",game[action-1])\n",
        "\n",
        "  #tie condition\n",
        "  if game[action-1] == game[rand]:\n",
        "    print (f\"{game[action-1]} ⚔️ {game[rand]} \\nIt's a Tie!\")\n",
        "  #Remaining conditions\n",
        "  elif game[action-1] == \"Rock\":\n",
        "    if game[rand] == \"Paper\":\n",
        "      print(f\"{game[action-1]} ⚔️ {game[rand]} \\nYou Lose!\")\n",
        "      p2 +=1\n",
        "    elif game[rand] == \"Scissors\":\n",
        "      print(f\"{game[action-1]} ⚔️ {game[rand]} \\nYou Win!\")\n",
        "      p1+=1\n",
        "  elif game[action-1] == \"Paper\":\n",
        "    if game[rand] == \"Scissors\":\n",
        "      print(f\"{game[action-1]} ⚔️ {game[rand]} \\nYou Lose!\")\n",
        "      p2+=1\n",
        "    elif  game[rand] == \"Rock\":\n",
        "      print(f\"{game[action-1]} ⚔️ {game[rand]} \\nYou Win!\")\n",
        "      p1+=1\n",
        "  elif game[action-1] == \"Scissors\":\n",
        "    if game[rand] == \"Paper\":\n",
        "      print(f\"{game[action-1]} ⚔️ {game[rand]} \\nYou Win!\")\n",
        "      p1+=1\n",
        "    elif game[rand] == \"Rock\":\n",
        "      print(f\"{game[action-1]} ⚔️ {game[rand]} \\nYou Lose!\")\n",
        "      p2+=1\n",
        "  #Stop the while loop if the round_counter equals the number of total rounds\n",
        "  if round_counter == rounds:\n",
        "    break\n",
        "#Print the outcome of the game by using conditional statements\n",
        "print(f\"Your score is : {p1} CPU's score is : {p2}\")\n",
        "if p1> p2:\n",
        "  print(\"You are the King of the Crown! Thank you for playing!!!\")\n",
        "elif p2==p1:\n",
        "  print(\"It is a tie! Play Again for the Destiny of This Kingdom!!!\")\n",
        "else:\n",
        "  print(\"You are a slave. The king has bounty on you. Thank you for playing!!!\")"
      ],
      "metadata": {
        "id": "DNUa_9afWqMd",
        "colab": {
          "base_uri": "https://localhost:8080/"
        },
        "outputId": "73e3c367-75b2-4094-ad4e-b0a30c96c064"
      },
      "execution_count": null,
      "outputs": [
        {
          "output_type": "stream",
          "name": "stdout",
          "text": [
            "How many rounds you want to play? 3\n",
            "Round 1\n",
            "Which one do you choose?\n",
            "(for Rock type 1, for Paper type 2, for Scissors type 3.)\n",
            "2\n",
            "You chose Paper\n",
            "Paper ⚔️ Scissors \n",
            "You Lose!\n",
            "Round 2\n",
            "Which one do you choose?\n",
            "(for Rock type 1, for Paper type 2, for Scissors type 3.)\n",
            "1\n",
            "You chose Rock\n",
            "Rock ⚔️ Rock \n",
            "It's a Tie!\n",
            "Round 3\n",
            "Which one do you choose?\n",
            "(for Rock type 1, for Paper type 2, for Scissors type 3.)\n",
            "3\n",
            "You chose Scissors\n",
            "Scissors ⚔️ Paper \n",
            "You Win!\n",
            "Your score is : 1 CPU's score is : 1\n",
            "It is a tie! Play Again for the Destiny of This Kingdom!!!\n"
          ]
        }
      ]
    },
    {
      "cell_type": "markdown",
      "metadata": {
        "id": "jdrYN0Xgp-D6"
      },
      "source": [
        "# Your first task\n",
        "\n",
        "Rachel asks you to write a program to track the name and revenue each employee brings.  \n",
        "\n",
        "* Create the \"salesperson_revenue\" dictionary to see the employee name as a key and the revenue as a value.\n",
        "\n",
        "  📌 Every employee starts with 0 revenue.\n",
        "* Define the \"enter_revenue\" function.\n",
        "\n",
        "  📌 The function takes the name and revenue as an argument and updates the salesperson_revenue dictionary.\n"
      ]
    },
    {
      "cell_type": "code",
      "source": [
        "#Create salesperson_revenue dictionary\n",
        "salesperson_revenue = {\"Tayfun\":0,\"Sinem\":0 }\n"
      ],
      "metadata": {
        "id": "3vzRo7hyMRv2"
      },
      "execution_count": null,
      "outputs": []
    },
    {
      "cell_type": "code",
      "source": [
        "#Define enter_revenue function\n",
        "def enter_revenue(name,revenue):\n",
        "  global salesperson_revenue\n",
        "  salesperson_revenue[name] += revenue\n"
      ],
      "metadata": {
        "id": "m-8IozBwMRzM"
      },
      "execution_count": null,
      "outputs": []
    },
    {
      "cell_type": "markdown",
      "source": [
        "####Try out the functions\n",
        "* In a while loop ask the user to give the name of the employee and for the revenue\n",
        "\n",
        "  📌 If the user enters “quit” the loop should break.\n",
        "\n",
        "After that, print out the salesperson_revenue dictionary.\n"
      ],
      "metadata": {
        "id": "UnTGSoNTi58u"
      }
    },
    {
      "cell_type": "code",
      "source": [
        "#Asking user employee name as input\n",
        "while True:\n",
        "  name= input(\"Name of Employee: \")\n",
        "  if name == \"quit\" or name == \"Quit\":\n",
        "    break\n",
        "  revenue = float(input(f\"Revenue of {name} : \"))\n",
        "  enter_revenue(name,revenue)"
      ],
      "metadata": {
        "id": "2E549VvFXNi6",
        "colab": {
          "base_uri": "https://localhost:8080/"
        },
        "outputId": "b9dbb7c0-9101-4509-e2a8-62febd496f52"
      },
      "execution_count": null,
      "outputs": [
        {
          "name": "stdout",
          "output_type": "stream",
          "text": [
            "Name of Employee: Sinem\n",
            "Revenue of Sinem : 30000\n",
            "Name of Employee: Tayfun\n",
            "Revenue of Tayfun : 50\n",
            "Name of Employee: quit\n"
          ]
        }
      ]
    },
    {
      "cell_type": "code",
      "source": [
        "#Print the salesperson_revenue dictionary\n",
        "print(salesperson_revenue)"
      ],
      "metadata": {
        "id": "OAvl9rgOXPe6",
        "colab": {
          "base_uri": "https://localhost:8080/"
        },
        "outputId": "21056c95-03ac-409a-f661-453d2a7ff9eb"
      },
      "execution_count": null,
      "outputs": [
        {
          "output_type": "stream",
          "name": "stdout",
          "text": [
            "{'Tayfun': 50.0, 'Sinem': 30000.0}\n"
          ]
        }
      ]
    }
  ],
  "metadata": {
    "interpreter": {
      "hash": "c5914ae3790566b9cd0e984a9bdda42a29da8adf046b5ac0173e0d37aacf3dab"
    },
    "kernelspec": {
      "display_name": "Python 3.9.7",
      "language": "python",
      "name": "python3"
    },
    "language_info": {
      "codemirror_mode": {
        "name": "ipython",
        "version": 3
      },
      "file_extension": ".py",
      "mimetype": "text/x-python",
      "name": "python",
      "nbconvert_exporter": "python",
      "pygments_lexer": "ipython3",
      "version": "3.9.7"
    },
    "orig_nbformat": 4,
    "colab": {
      "provenance": [],
      "include_colab_link": true
    }
  },
  "nbformat": 4,
  "nbformat_minor": 0
}